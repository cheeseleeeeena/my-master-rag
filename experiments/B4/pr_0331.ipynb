{
 "cells": [
  {
   "cell_type": "markdown",
   "metadata": {},
   "source": [
    "## Dataset feature 1: Number of required facts are not consistent among questions。\n",
    "###  Hypothesis 1: 固定retrieve topk 數量後，本來single fact 的因為noise 而答錯。\n",
    "（出發點： single fact question 佔比較高732/950=77%）\n",
    "        * compute error percentage. If high then continue next step. （493/732=67%的single fact question都是低分的）\n",
    "        * 篩選出 (Recall=1且precision=0.33)的low answer f1 single fact question。（173/493=35% 的 single fact error 可能是來自noise。佔dataset overall 18%）\n",
    "        * 給定Gold evidence重新回答後，answer f1 的relative improvement?\n",
    "        * 如果relative improvement high, 可以從noise filtering下手。\n",
    "        * If improvement 不多，從何下手解決？直接觀察幾個case 的規律。是否對應到dataset feature 3？如果是，可合併解決。"
   ]
  },
  {
   "cell_type": "code",
   "execution_count": null,
   "metadata": {},
   "outputs": [],
   "source": [
    "# single fact \n",
    "# low ans-F1 due to noise from retrieved topk (recall=1, precision=1/3, where 1 is gold, 2 is probably noise)\n",
    "# total cases: 173"
   ]
  },
  {
   "cell_type": "code",
   "execution_count": null,
   "metadata": {},
   "outputs": [],
   "source": []
  }
 ],
 "metadata": {
  "kernelspec": {
   "display_name": "vllm5",
   "language": "python",
   "name": "python3"
  },
  "language_info": {
   "codemirror_mode": {
    "name": "ipython",
    "version": 3
   },
   "file_extension": ".py",
   "mimetype": "text/x-python",
   "name": "python",
   "nbconvert_exporter": "python",
   "pygments_lexer": "ipython3",
   "version": "3.10.12"
  }
 },
 "nbformat": 4,
 "nbformat_minor": 2
}
