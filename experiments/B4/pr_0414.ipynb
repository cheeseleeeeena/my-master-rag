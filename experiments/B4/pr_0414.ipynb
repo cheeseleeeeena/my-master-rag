{
 "cells": [
  {
   "cell_type": "markdown",
   "id": "96154ddd",
   "metadata": {},
   "source": [
    "# prompt template 2"
   ]
  },
  {
   "cell_type": "code",
   "execution_count": null,
   "id": "376325c6",
   "metadata": {},
   "outputs": [],
   "source": [
    "system_prompt = \"You are an expert in NLP research field. Provide concise answers, focusing on the key information needed.\""
   ]
  },
  {
   "cell_type": "code",
   "execution_count": null,
   "id": "cd3e597a",
   "metadata": {},
   "outputs": [],
   "source": [
    "user_prompt = (\n",
    "    \"Task: Given a question in NLP research field and some relevant snippets, provide an accurate and contextually relevant answer. \"\n",
    "    \"The answer can take one of the following forms:\\n\"\n",
    "    \"- Boolean: 'Yes' or 'No.'\\n\"\n",
    "    \"- Abstractive: A concise and synthesized answer after reasoning on both the question and the provided content.\\n\"\n",
    "    \"- Extractive: A direct excerpt from the text.\\n\"\n",
    "    \"- Unanswerable: If the question cannot be answered based on the provided content.\\n\\n\"\n",
    "    \"Input Details:\\n\"\n",
    "    f\"1. Paper Title: {paper_title}\\n\"\n",
    "    f\"2. Relevant Snippets:\\n{concatenated_topk}\\n\"\n",
    "    f\"3. Question: {question_text}\\n\\n\"\n",
    "    \"Constraints:\\n\"\n",
    "    \"- Provide a direct and concise answer to the question based only on the relevant snippets.\\n\"\n",
    "    \"- If the answer is unanswerable based on the provided snippets, your final answer should be 'Unanswerable'.\\n\"\n",
    "    \"- The final answer to the question must be enclosed with two special tokens '<answer>' and '</answer>'.\"\n",
    "    \"- Your answer should be as concise as possible, and strictly follows the constraints above.\\n\\n\"\n",
    "    \"Answer:\\n\"\n",
    ")"
   ]
  },
  {
   "cell_type": "markdown",
   "id": "9e3bc101",
   "metadata": {},
   "source": [
    "# prompt template 3"
   ]
  },
  {
   "cell_type": "code",
   "execution_count": null,
   "id": "8a3960c2",
   "metadata": {},
   "outputs": [],
   "source": [
    "system_prompt = \"You are an expert in NLP research field.\""
   ]
  },
  {
   "cell_type": "code",
   "execution_count": null,
   "id": "b79190d8",
   "metadata": {},
   "outputs": [],
   "source": [
    "user_prompt = (\n",
    "    \"Task: Given a question in NLP research field and some relevant snippets, provide an accurate and contextually relevant answer. \"\n",
    "    \"The answer can take one of the following forms:\\n\"\n",
    "    \"- Boolean: 'Yes' or 'No.'\\n\"\n",
    "    \"- Abstractive: A concise and synthesized answer after reasoning on both the question and the provided content.\\n\"\n",
    "    \"- Extractive: A direct excerpt from the text.\\n\"\n",
    "    \"- Unanswerable: If the question cannot be answered based on the provided content.\\n\\n\"\n",
    "    \"Input Details:\\n\"\n",
    "    f\"1. Paper Title: {paper_title}\\n\"\n",
    "    f\"2. Relevant Snippets:\\n{concatenated_topk}\\n\"\n",
    "    f\"3. Question: {question_text}\\n\\n\"\n",
    "    \"Constraints:\\n\"\n",
    "    \"- Provide a direct and concise answer to the question based only on the relevant snippets.\\n\"\n",
    "    \"- If the answer is unanswerable based on the provided snippets, your final answer should be 'Unanswerable'.\\n\"\n",
    "    \"- The final answer to the question must not exceed 50 words.\\n\"\n",
    "    \"- The final answer to the question must be enclosed with two special tokens: '<answer>' and '</answer>'.\"\n",
    "    \"Answer:\\n\"\n",
    ")"
   ]
  }
 ],
 "metadata": {
  "kernelspec": {
   "display_name": "vllm5",
   "language": "python",
   "name": "python3"
  },
  "language_info": {
   "name": "python",
   "version": "3.10.16"
  }
 },
 "nbformat": 4,
 "nbformat_minor": 5
}
