{
 "cells": [
  {
   "cell_type": "code",
   "execution_count": 5,
   "metadata": {},
   "outputs": [],
   "source": [
    "import torch\n",
    "torch.cuda.set_device(\"cuda:1\")"
   ]
  },
  {
   "cell_type": "code",
   "execution_count": 6,
   "metadata": {},
   "outputs": [
    {
     "data": {
      "text/plain": [
       "1"
      ]
     },
     "execution_count": 6,
     "metadata": {},
     "output_type": "execute_result"
    }
   ],
   "source": [
    "torch.cuda.current_device()"
   ]
  },
  {
   "cell_type": "code",
   "execution_count": null,
   "metadata": {},
   "outputs": [],
   "source": [
    "# download models\n",
    "\n",
    "from transformers import AutoModelForCausalLM, AutoTokenizer\n",
    "\n",
    "import os\n",
    "os.environ['HF_HOME'] = '/workspace/P76125041/.cache/'\n",
    "\n",
    "model_name = \"meta-llama/Meta-Llama-3-8B-Instruct\"\n",
    "# tokenizer = AutoTokenizer.from_pretrained(model_name)\n",
    "# tokenizer.save_pretrained(f\"/workspace/P76125041/.cache/tokenizer/{model_name}\")\n",
    "\n",
    "model = AutoModelForCausalLM.from_pretrained(model_name)\n",
    "model.save_pretrained(f\"/workspace/P76125041/.cache/{model_name}\")\n"
   ]
  },
  {
   "cell_type": "code",
   "execution_count": 5,
   "metadata": {},
   "outputs": [
    {
     "name": "stdout",
     "output_type": "stream",
     "text": [
      "Task: Given a research paper and a corresponding question derived from it, provide an accurate and contextually relevant answer. The answer can take one of the following forms:\n",
      "- Boolean: 'Yes' or 'No.'\n",
      "- Abstractive: A concise summary or synthesis.\n",
      "- Extractive: A direct excerpt from the text.\n",
      "- Unanswerable: If the question cannot be answered based on the provided content.\n",
      "\n",
      "Input Details:\n",
      "1. Paper Title: hi\n",
      "2. Paper Contents:\n",
      ",,,\n",
      "3. Question: what?\n",
      "\n",
      "Output:\n",
      "Provide a direct and concise answer to the question based only on the given paper's contents. If the answer is unanswerable, state 'Unanswerable' explicitly.\n",
      "\n",
      "Answer:\n"
     ]
    }
   ],
   "source": [
    "full_papers= {'id1':{'title':\"hi\", \"text\":\",,,\"}}\n",
    "paper_id = \"id1\"\n",
    "question_text = \"what?\"\n",
    "\n",
    "user_prompt = (\n",
    "\"Task: Given a research paper and a corresponding question derived from it, provide an accurate and contextually relevant answer. \"\n",
    "\"The answer can take one of the following forms:\\n\"\n",
    "\"- Boolean: 'Yes' or 'No.'\\n\"\n",
    "\"- Abstractive: A concise summary or synthesis.\\n\"\n",
    "\"- Extractive: A direct excerpt from the text.\\n\"\n",
    "\"- Unanswerable: If the question cannot be answered based on the provided content.\\n\\n\"\n",
    "\"Input Details:\\n\"\n",
    "f\"1. Paper Title: {full_papers[paper_id]['title']}\\n\"\n",
    "f\"2. Paper Contents:\\n{full_papers[paper_id]['text']}\\n\"\n",
    "f\"3. Question: {question_text}\\n\\n\"\n",
    "\"Output:\\n\"\n",
    "\"Provide a direct and concise answer to the question based only on the given paper's contents. \"\n",
    "\"If the answer is unanswerable, state 'Unanswerable' explicitly.\\n\\n\"\n",
    "\"Answer:\"\n",
    ")\n",
    "\n",
    "print(user_prompt)"
   ]
  },
  {
   "cell_type": "code",
   "execution_count": 6,
   "metadata": {},
   "outputs": [
    {
     "name": "stdout",
     "output_type": "stream",
     "text": [
      "[{'1': 'hi'}]\n"
     ]
    }
   ],
   "source": [
    "question_prompts = []\n",
    "question_id = \"1\"\n",
    "formatted_prompt = \"hi\"\n",
    "\n",
    "question_prompts.append({question_id: formatted_prompt})\n",
    "print(question_prompts)"
   ]
  },
  {
   "cell_type": "code",
   "execution_count": 1,
   "metadata": {},
   "outputs": [
    {
     "name": "stdout",
     "output_type": "stream",
     "text": [
      "['1', '2', '3']\n"
     ]
    }
   ],
   "source": [
    "hi = [\"1\", \"2\", \"3\"]\n",
    "print(str(hi))"
   ]
  },
  {
   "cell_type": "code",
   "execution_count": 2,
   "metadata": {},
   "outputs": [
    {
     "name": "stderr",
     "output_type": "stream",
     "text": [
      "/workspace/P76125041/miniconda3/envs/exp-b4/lib/python3.10/site-packages/tqdm/auto.py:21: TqdmWarning: IProgress not found. Please update jupyter and ipywidgets. See https://ipywidgets.readthedocs.io/en/stable/user_install.html\n",
      "  from .autonotebook import tqdm as notebook_tqdm\n",
      "/workspace/P76125041/miniconda3/envs/exp-b4/lib/python3.10/site-packages/xformers/ops/fmha/flash.py:211: FutureWarning: `torch.library.impl_abstract` was renamed to `torch.library.register_fake`. Please use that instead; we will remove `torch.library.impl_abstract` in a future version of PyTorch.\n",
      "  @torch.library.impl_abstract(\"xformers_flash::flash_fwd\")\n",
      "/workspace/P76125041/miniconda3/envs/exp-b4/lib/python3.10/site-packages/xformers/ops/fmha/flash.py:344: FutureWarning: `torch.library.impl_abstract` was renamed to `torch.library.register_fake`. Please use that instead; we will remove `torch.library.impl_abstract` in a future version of PyTorch.\n",
      "  @torch.library.impl_abstract(\"xformers_flash::flash_bwd\")\n",
      "Some weights of the model checkpoint at dunzhang/stella_en_400M_v5 were not used when initializing NewModel: ['new.pooler.dense.bias', 'new.pooler.dense.weight']\n",
      "- This IS expected if you are initializing NewModel from the checkpoint of a model trained on another task or with another architecture (e.g. initializing a BertForSequenceClassification model from a BertForPreTraining model).\n",
      "- This IS NOT expected if you are initializing NewModel from the checkpoint of a model that you expect to be exactly identical (initializing a BertForSequenceClassification model from a BertForSequenceClassification model).\n"
     ]
    }
   ],
   "source": [
    "from sentence_transformers import SentenceTransformer\n",
    "\n",
    "model_path = \"3\"\n",
    "\n",
    "model = SentenceTransformer(\n",
    "        \"dunzhang/stella_en_400M_v5\", trust_remote_code=True, device=\"cuda:1\"\n",
    "    ).cuda(1)\n",
    "\n",
    "model.save(model_path)"
   ]
  },
  {
   "cell_type": "code",
   "execution_count": null,
   "metadata": {},
   "outputs": [],
   "source": []
  }
 ],
 "metadata": {
  "kernelspec": {
   "display_name": "cuda12",
   "language": "python",
   "name": "python3"
  },
  "language_info": {
   "codemirror_mode": {
    "name": "ipython",
    "version": 3
   },
   "file_extension": ".py",
   "mimetype": "text/x-python",
   "name": "python",
   "nbconvert_exporter": "python",
   "pygments_lexer": "ipython3",
   "version": "3.12.2"
  }
 },
 "nbformat": 4,
 "nbformat_minor": 2
}
